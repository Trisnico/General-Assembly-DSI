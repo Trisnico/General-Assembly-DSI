{
 "cells": [
  {
   "cell_type": "code",
   "execution_count": null,
   "metadata": {},
   "outputs": [],
   "source": [
    "import pandas as pd\n",
    "import cenpy as cen\n",
    "import requests"
   ]
  },
  {
   "cell_type": "code",
   "execution_count": null,
   "metadata": {},
   "outputs": [],
   "source": [
    "# Quaterly Work Indicators (through Q1 2018)\n",
    "qwi = pd.read_csv('https://www.dropbox.com/s/fuvc3s6d40ydc45/master_qwi_2003_2018.csv?dl=1')"
   ]
  },
  {
   "cell_type": "code",
   "execution_count": null,
   "metadata": {},
   "outputs": [],
   "source": [
    "qwi.drop(columns = 'Unnamed: 0', inplace = True)"
   ]
  },
  {
   "cell_type": "code",
   "execution_count": null,
   "metadata": {},
   "outputs": [],
   "source": [
    "qwi_connection = cen.base.Connection('QWISA', \n",
    "                                     #apikey = 'c32701ea1121c5cc00309985cc54806ded623d93'\n",
    "                                    )"
   ]
  },
  {
   "cell_type": "code",
   "execution_count": null,
   "metadata": {},
   "outputs": [],
   "source": [
    "cols = qwi_connection.varslike('Emp')\n",
    "hir = qwi_connection.varslike('HirA')\n",
    "earns = qwi_connection.varslike('Earn')\n",
    "payroll = qwi_connection.varslike('Pay')\n",
    "firm = qwi_connection.varslike('Frm')\n",
    "sep = qwi_connection.varslike('sep')\n",
    "\n",
    "\n",
    "cols.extend(hir)\n",
    "cols.extend(earns)\n",
    "cols.extend(payroll)\n",
    "cols.extend(firm)\n",
    "cols.extend(sep)"
   ]
  },
  {
   "cell_type": "code",
   "execution_count": null,
   "metadata": {},
   "outputs": [],
   "source": [
    "# Pull LA data\n",
    "g_filter = {'state': '22'}\n",
    "g_unit = 'county:*'\n",
    "time = 'from 2003-Q1 to 2018-Q1'\n",
    "la = qwi_connection.query(cols = cols, time = time, geo_filter = g_filter, geo_unit = g_unit)"
   ]
  },
  {
   "cell_type": "code",
   "execution_count": null,
   "metadata": {},
   "outputs": [],
   "source": [
    "# Compile county / state codes \n",
    "\n",
    "# Create placeholder dataframe\n",
    "county_codes = cen.explorer.fips_table('county', in_state = 'TX')"
   ]
  },
  {
   "cell_type": "code",
   "execution_count": null,
   "metadata": {},
   "outputs": [],
   "source": [
    "# Create list of TX county codes\n",
    "tx_counties = list(county_codes.iloc[:, 2])\n",
    "\n",
    "tx_counties = [str(x) for x in tx_counties]\n",
    "\n",
    "tx_counties[0:50] = [x.zfill(3) for x in tx_counties[0:50]]"
   ]
  },
  {
   "cell_type": "code",
   "execution_count": null,
   "metadata": {},
   "outputs": [],
   "source": [
    "# Pull TX data - test\n",
    "g_filter = {'state': '48'}\n",
    "g_unit = ('county:' +  tx_counties[0])\n",
    "\n",
    "tx = qwi_connection.query(cols = cols, time = time, geo_filter = g_filter, geo_unit = g_unit,)\n",
    "\n",
    "for c in range(0, 100):  \n",
    "    \n",
    "    print(f'Scraping {c}')\n",
    "\n",
    "    try:\n",
    "        g_unit = ('county:' +  tx_counties[c])\n",
    "        g_filter = {'state': '48'}\n",
    "        time = 'from 2003-Q1 to 2018-Q1'\n",
    "\n",
    "        tx_1 = qwi_connection.query(cols = cols, time = time, geo_filter = g_filter, geo_unit = g_unit)\n",
    "\n",
    "        tx = pd.concat([tx, tx_1])\n",
    "\n",
    "    except requests.exceptions.HTTPError:\n",
    "        pass"
   ]
  },
  {
   "cell_type": "code",
   "execution_count": null,
   "metadata": {},
   "outputs": [],
   "source": [
    "# Pull remaining TX data\n",
    "for c in range(100, len(tx_counties)):  \n",
    "    \n",
    "    print(f'Scraping {c}')\n",
    "\n",
    "    try:\n",
    "        g_unit = ('county:' +  tx_counties[c])\n",
    "        g_filter = {'state': '48'}\n",
    "        time = 'from 2003-Q1 to 2018-Q1'\n",
    "\n",
    "        tx_1 = qwi_connection.query(cols = cols, time = time, geo_filter = g_filter, geo_unit = g_unit)\n",
    "\n",
    "        tx = pd.concat([tx, tx_1])\n",
    "\n",
    "    except requests.exceptions.HTTPError:\n",
    "        pass"
   ]
  },
  {
   "cell_type": "code",
   "execution_count": null,
   "metadata": {},
   "outputs": [],
   "source": [
    "# Concat LA & TX dataframes\n",
    "la_tx = pd.concat([la, tx])"
   ]
  },
  {
   "cell_type": "code",
   "execution_count": null,
   "metadata": {},
   "outputs": [],
   "source": [
    "# Save LA/TX files\n",
    "la_tx.to_csv('../project-4/data/la_tx_qwi.csv')\n",
    "\n",
    "la_tx = pd.read_csv('../project-4/data/la_tx_qwi.csv')"
   ]
  },
  {
   "cell_type": "code",
   "execution_count": null,
   "metadata": {},
   "outputs": [],
   "source": [
    "# Pull county codes for LA and TX\n",
    "la_county_codes = cen.explorer.fips_table('county', in_state = 'LA')\n",
    "\n",
    "tx_county_codes = cen.explorer.fips_table('county', in_state = 'TX')\n",
    "\n",
    "county_codes = pd.concat([la_county_codes, tx_county_codes])"
   ]
  },
  {
   "cell_type": "code",
   "execution_count": null,
   "metadata": {},
   "outputs": [],
   "source": [
    "# Reverse dictionary to map codes to states\n",
    "\n",
    "la_tx['state_abv'] = la_tx['state'].map(state_codes_rev)\n",
    "\n",
    "# Strip leading zeros\n",
    "la_tx['county'] = la_tx['county'].str.lstrip('0')"
   ]
  },
  {
   "cell_type": "code",
   "execution_count": null,
   "metadata": {},
   "outputs": [],
   "source": [
    "# Combine county and state codes\n",
    "la_tx['county_codes'] = la_tx['state'].astype(str) + ':' + la_tx['county'].astype(str)\n",
    "\n",
    "la_tx['county_name'] = la_tx['county_codes'].astype(str).map(county_codes_dict)"
   ]
  },
  {
   "cell_type": "code",
   "execution_count": null,
   "metadata": {},
   "outputs": [],
   "source": [
    "# Concat LA/TX dataframes\n",
    "qwi = pd.concat([qwi, la_tx])\n",
    "\n",
    "qwi.drop(columns = 'Unnamed: 0', axis = 1)"
   ]
  },
  {
   "cell_type": "code",
   "execution_count": null,
   "metadata": {},
   "outputs": [],
   "source": [
    "# Convert DateTime index and save as csv\n",
    "qwi.index = pd.DatetimeIndex(qwi['time'].values)\n",
    "\n",
    "qwi.to_csv('../project-4/data/master_qwi_2003_2018.csv')"
   ]
  }
 ],
 "metadata": {
  "kernelspec": {
   "display_name": "Python 3",
   "language": "python",
   "name": "python3"
  },
  "language_info": {
   "codemirror_mode": {
    "name": "ipython",
    "version": 3
   },
   "file_extension": ".py",
   "mimetype": "text/x-python",
   "name": "python",
   "nbconvert_exporter": "python",
   "pygments_lexer": "ipython3",
   "version": "3.6.6"
  }
 },
 "nbformat": 4,
 "nbformat_minor": 2
}
