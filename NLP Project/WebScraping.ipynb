{
 "cells": [
  {
   "cell_type": "code",
   "execution_count": 14,
   "metadata": {},
   "outputs": [],
   "source": [
    "import pandas as pd\n",
    "import numpy as np\n",
    "import matplotlib.pyplot as plt\n",
    "import requests\n",
    "import time\n",
    "import datetime as dt\n",
    "from bs4 import BeautifulSoup"
   ]
  },
  {
   "cell_type": "markdown",
   "metadata": {},
   "source": [
    "The code used below was used the scrape the Reddit API that host all of reddit posts that have ever been\n",
    "\n",
    "- This method was used in order to get as much data for our modeling as we can. \n",
    "- This code is not mine, it was Brian so I will explain how it was used. "
   ]
  },
  {
   "cell_type": "code",
   "execution_count": 15,
   "metadata": {},
   "outputs": [],
   "source": [
    "def query_pushshift(subreddit, kind='submission', skip=30, times=6, \n",
    "                    subfield = ['title', 'selftext', 'subreddit', 'created_utc', 'author', 'num_comments', 'score', 'is_self'],\n",
    "                    comfields = ['body', 'score', 'created_utc']): #Categorical fields in the website that we will scraping our data from. \n",
    "\n",
    "    stem = \"https://api.pushshift.io/reddit/search/{}/?subreddit={}&size=1000\".format(kind, subreddit) # This will be where the website we wil be pulling from. \n",
    "    mylist = []\n",
    "    \n",
    "    for x in range(1, times):\n",
    "        \n",
    "        URL = \"{}&after={}d\".format(stem, skip * x) # This is used to format through the API to grab posts from different timeframes\n",
    "        print(URL)\n",
    "        response = requests.get(URL)  # this is the request pull to get the information from the website. \n",
    "        assert response.status_code == 200\n",
    "        mine = response.json()['data'] #Scrapping the data from the api\n",
    "        df = pd.DataFrame.from_dict(mine) # putting the data into a dataframe.\n",
    "        mylist.append(df) #this is appending the data frame to the list. \n",
    "        time.sleep(2)\n",
    "        \n",
    "    full = pd.concat(mylist, sort=False)\n",
    "    \n",
    "    if kind == \"submission\": # if the target is identified as a submission the following fiels are entered\n",
    "        \n",
    "        full = full[subfield] # this will create a list of the all the subfields as a header.\n",
    "        \n",
    "        full = full.drop_duplicates() # this deletes duplicates from the field\n",
    "        \n",
    "        full = full.loc[full['is_self'] == True]\n",
    "        \n",
    "    def get_date(created):\n",
    "        return dt.date.fromtimestamp(created)\n",
    "    \n",
    "    _timestamp = full[\"created_utc\"].apply(get_date) # applying a timestamp. \n",
    "    \n",
    "    full['timestamp'] = _timestamp\n",
    "\n",
    "    print(full.shape)\n",
    "    \n",
    "    return full"
   ]
  },
  {
   "cell_type": "code",
   "execution_count": 16,
   "metadata": {},
   "outputs": [
    {
     "name": "stdout",
     "output_type": "stream",
     "text": [
      "https://api.pushshift.io/reddit/search/submission/?subreddit=UnethicalLifeProTips&size=1000&after=30d\n",
      "https://api.pushshift.io/reddit/search/submission/?subreddit=UnethicalLifeProTips&size=1000&after=60d\n",
      "https://api.pushshift.io/reddit/search/submission/?subreddit=UnethicalLifeProTips&size=1000&after=90d\n",
      "https://api.pushshift.io/reddit/search/submission/?subreddit=UnethicalLifeProTips&size=1000&after=120d\n",
      "https://api.pushshift.io/reddit/search/submission/?subreddit=UnethicalLifeProTips&size=1000&after=150d\n",
      "(4956, 9)\n"
     ]
    }
   ],
   "source": [
    "query_pushshift(\"UnethicalLifeProTips\").to_csv(\"./ULPT.csv\")"
   ]
  },
  {
   "cell_type": "code",
   "execution_count": 17,
   "metadata": {},
   "outputs": [
    {
     "name": "stdout",
     "output_type": "stream",
     "text": [
      "https://api.pushshift.io/reddit/search/submission/?subreddit=LifeProTips&size=1000&after=30d\n",
      "https://api.pushshift.io/reddit/search/submission/?subreddit=LifeProTips&size=1000&after=60d\n",
      "https://api.pushshift.io/reddit/search/submission/?subreddit=LifeProTips&size=1000&after=90d\n",
      "https://api.pushshift.io/reddit/search/submission/?subreddit=LifeProTips&size=1000&after=120d\n",
      "https://api.pushshift.io/reddit/search/submission/?subreddit=LifeProTips&size=1000&after=150d\n",
      "(4977, 9)\n"
     ]
    }
   ],
   "source": [
    "query_pushshift(\"LifeProTips\").to_csv(\"./LPT.csv\")"
   ]
  },
  {
   "cell_type": "code",
   "execution_count": null,
   "metadata": {},
   "outputs": [],
   "source": []
  }
 ],
 "metadata": {
  "kernelspec": {
   "display_name": "Python 3",
   "language": "python",
   "name": "python3"
  },
  "language_info": {
   "codemirror_mode": {
    "name": "ipython",
    "version": 3
   },
   "file_extension": ".py",
   "mimetype": "text/x-python",
   "name": "python",
   "nbconvert_exporter": "python",
   "pygments_lexer": "ipython3",
   "version": "3.6.5"
  }
 },
 "nbformat": 4,
 "nbformat_minor": 2
}
